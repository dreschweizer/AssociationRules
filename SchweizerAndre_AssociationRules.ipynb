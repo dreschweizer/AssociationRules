{
 "cells": [
  {
   "cell_type": "markdown",
   "metadata": {},
   "source": [
    "# Homework Assignment 2: Association Rules"
   ]
  },
  {
   "cell_type": "markdown",
   "metadata": {},
   "source": [
    "## André Schweizer"
   ]
  },
  {
   "cell_type": "markdown",
   "metadata": {},
   "source": [
    "### Import libraries and set parameters"
   ]
  },
  {
   "cell_type": "code",
   "execution_count": 84,
   "metadata": {},
   "outputs": [],
   "source": [
    "import numpy as np\n",
    "import pandas as pd\n",
    "import os\n",
    "import matplotlib.pyplot as plt\n",
    "from mlxtend.frequent_patterns import apriori\n",
    "from mlxtend.frequent_patterns import association_rules\n",
    "pd.set_option('display.expand_frame_repr', False)\n",
    "plt.rcParams['figure.figsize'] = (20, 10)\n",
    "plt.rcParams['lines.markersize'] = 0.5"
   ]
  },
  {
   "cell_type": "markdown",
   "metadata": {},
   "source": [
    "### Import data files"
   ]
  },
  {
   "cell_type": "code",
   "execution_count": 91,
   "metadata": {
    "collapsed": true
   },
   "outputs": [
    {
     "ename": "KeyboardInterrupt",
     "evalue": "",
     "output_type": "error",
     "traceback": [
      "\u001b[0;31m---------------------------------------------------------------------------\u001b[0m",
      "\u001b[0;31mKeyboardInterrupt\u001b[0m                         Traceback (most recent call last)",
      "\u001b[0;32m<ipython-input-91-75bb17a03f78>\u001b[0m in \u001b[0;36m<module>\u001b[0;34m()\u001b[0m\n\u001b[1;32m      4\u001b[0m \u001b[0msku\u001b[0m \u001b[0;34m=\u001b[0m \u001b[0mpd\u001b[0m\u001b[0;34m.\u001b[0m\u001b[0mread_csv\u001b[0m\u001b[0;34m(\u001b[0m\u001b[0;34m'skuinfo.csv'\u001b[0m\u001b[0;34m)\u001b[0m\u001b[0;34m\u001b[0m\u001b[0m\n\u001b[1;32m      5\u001b[0m \u001b[0mstore\u001b[0m \u001b[0;34m=\u001b[0m \u001b[0mpd\u001b[0m\u001b[0;34m.\u001b[0m\u001b[0mread_csv\u001b[0m\u001b[0;34m(\u001b[0m\u001b[0;34m'strinfo.csv'\u001b[0m\u001b[0;34m)\u001b[0m\u001b[0;34m\u001b[0m\u001b[0m\n\u001b[0;32m----> 6\u001b[0;31m \u001b[0mtrnsct\u001b[0m \u001b[0;34m=\u001b[0m \u001b[0mpd\u001b[0m\u001b[0;34m.\u001b[0m\u001b[0mread_csv\u001b[0m\u001b[0;34m(\u001b[0m\u001b[0;34m'trnsact.csv'\u001b[0m\u001b[0;34m,\u001b[0m \u001b[0mheader\u001b[0m \u001b[0;34m=\u001b[0m \u001b[0mNone\u001b[0m\u001b[0;34m,\u001b[0m \u001b[0mnames\u001b[0m \u001b[0;34m=\u001b[0m \u001b[0;34m[\u001b[0m\u001b[0;34m'SKU'\u001b[0m\u001b[0;34m,\u001b[0m\u001b[0;34m'STORE'\u001b[0m\u001b[0;34m,\u001b[0m\u001b[0;34m'REGISTER'\u001b[0m\u001b[0;34m,\u001b[0m\u001b[0;34m'TRANNUM'\u001b[0m\u001b[0;34m,\u001b[0m\u001b[0;34m'SEQ'\u001b[0m\u001b[0;34m,\u001b[0m\u001b[0;34m'SALEDATE'\u001b[0m\u001b[0;34m,\u001b[0m\u001b[0;34m'STYPE'\u001b[0m\u001b[0;34m,\u001b[0m\u001b[0;34m'QUANTITY'\u001b[0m\u001b[0;34m,\u001b[0m\u001b[0;34m'I'\u001b[0m\u001b[0;34m,\u001b[0m\u001b[0;34m'ORGPRICE'\u001b[0m\u001b[0;34m,\u001b[0m\u001b[0;34m'AMOUNT'\u001b[0m\u001b[0;34m,\u001b[0m\u001b[0;34m'INTERID'\u001b[0m\u001b[0;34m,\u001b[0m\u001b[0;34m'MIC'\u001b[0m\u001b[0;34m,\u001b[0m\u001b[0;34m'N'\u001b[0m\u001b[0;34m]\u001b[0m\u001b[0;34m)\u001b[0m\u001b[0;34m\u001b[0m\u001b[0m\n\u001b[0m",
      "\u001b[0;32m/anaconda2/lib/python2.7/site-packages/pandas/io/parsers.pyc\u001b[0m in \u001b[0;36mparser_f\u001b[0;34m(filepath_or_buffer, sep, delimiter, header, names, index_col, usecols, squeeze, prefix, mangle_dupe_cols, dtype, engine, converters, true_values, false_values, skipinitialspace, skiprows, nrows, na_values, keep_default_na, na_filter, verbose, skip_blank_lines, parse_dates, infer_datetime_format, keep_date_col, date_parser, dayfirst, iterator, chunksize, compression, thousands, decimal, lineterminator, quotechar, quoting, escapechar, comment, encoding, dialect, tupleize_cols, error_bad_lines, warn_bad_lines, skipfooter, doublequote, delim_whitespace, low_memory, memory_map, float_precision)\u001b[0m\n\u001b[1;32m    676\u001b[0m                     skip_blank_lines=skip_blank_lines)\n\u001b[1;32m    677\u001b[0m \u001b[0;34m\u001b[0m\u001b[0m\n\u001b[0;32m--> 678\u001b[0;31m         \u001b[0;32mreturn\u001b[0m \u001b[0m_read\u001b[0m\u001b[0;34m(\u001b[0m\u001b[0mfilepath_or_buffer\u001b[0m\u001b[0;34m,\u001b[0m \u001b[0mkwds\u001b[0m\u001b[0;34m)\u001b[0m\u001b[0;34m\u001b[0m\u001b[0m\n\u001b[0m\u001b[1;32m    679\u001b[0m \u001b[0;34m\u001b[0m\u001b[0m\n\u001b[1;32m    680\u001b[0m     \u001b[0mparser_f\u001b[0m\u001b[0;34m.\u001b[0m\u001b[0m__name__\u001b[0m \u001b[0;34m=\u001b[0m \u001b[0mname\u001b[0m\u001b[0;34m\u001b[0m\u001b[0m\n",
      "\u001b[0;32m/anaconda2/lib/python2.7/site-packages/pandas/io/parsers.pyc\u001b[0m in \u001b[0;36m_read\u001b[0;34m(filepath_or_buffer, kwds)\u001b[0m\n\u001b[1;32m    444\u001b[0m \u001b[0;34m\u001b[0m\u001b[0m\n\u001b[1;32m    445\u001b[0m     \u001b[0;32mtry\u001b[0m\u001b[0;34m:\u001b[0m\u001b[0;34m\u001b[0m\u001b[0m\n\u001b[0;32m--> 446\u001b[0;31m         \u001b[0mdata\u001b[0m \u001b[0;34m=\u001b[0m \u001b[0mparser\u001b[0m\u001b[0;34m.\u001b[0m\u001b[0mread\u001b[0m\u001b[0;34m(\u001b[0m\u001b[0mnrows\u001b[0m\u001b[0;34m)\u001b[0m\u001b[0;34m\u001b[0m\u001b[0m\n\u001b[0m\u001b[1;32m    447\u001b[0m     \u001b[0;32mfinally\u001b[0m\u001b[0;34m:\u001b[0m\u001b[0;34m\u001b[0m\u001b[0m\n\u001b[1;32m    448\u001b[0m         \u001b[0mparser\u001b[0m\u001b[0;34m.\u001b[0m\u001b[0mclose\u001b[0m\u001b[0;34m(\u001b[0m\u001b[0;34m)\u001b[0m\u001b[0;34m\u001b[0m\u001b[0m\n",
      "\u001b[0;32m/anaconda2/lib/python2.7/site-packages/pandas/io/parsers.pyc\u001b[0m in \u001b[0;36mread\u001b[0;34m(self, nrows)\u001b[0m\n\u001b[1;32m   1034\u001b[0m                 \u001b[0;32mraise\u001b[0m \u001b[0mValueError\u001b[0m\u001b[0;34m(\u001b[0m\u001b[0;34m'skipfooter not supported for iteration'\u001b[0m\u001b[0;34m)\u001b[0m\u001b[0;34m\u001b[0m\u001b[0m\n\u001b[1;32m   1035\u001b[0m \u001b[0;34m\u001b[0m\u001b[0m\n\u001b[0;32m-> 1036\u001b[0;31m         \u001b[0mret\u001b[0m \u001b[0;34m=\u001b[0m \u001b[0mself\u001b[0m\u001b[0;34m.\u001b[0m\u001b[0m_engine\u001b[0m\u001b[0;34m.\u001b[0m\u001b[0mread\u001b[0m\u001b[0;34m(\u001b[0m\u001b[0mnrows\u001b[0m\u001b[0;34m)\u001b[0m\u001b[0;34m\u001b[0m\u001b[0m\n\u001b[0m\u001b[1;32m   1037\u001b[0m \u001b[0;34m\u001b[0m\u001b[0m\n\u001b[1;32m   1038\u001b[0m         \u001b[0;31m# May alter columns / col_dict\u001b[0m\u001b[0;34m\u001b[0m\u001b[0;34m\u001b[0m\u001b[0m\n",
      "\u001b[0;32m/anaconda2/lib/python2.7/site-packages/pandas/io/parsers.pyc\u001b[0m in \u001b[0;36mread\u001b[0;34m(self, nrows)\u001b[0m\n\u001b[1;32m   1846\u001b[0m     \u001b[0;32mdef\u001b[0m \u001b[0mread\u001b[0m\u001b[0;34m(\u001b[0m\u001b[0mself\u001b[0m\u001b[0;34m,\u001b[0m \u001b[0mnrows\u001b[0m\u001b[0;34m=\u001b[0m\u001b[0mNone\u001b[0m\u001b[0;34m)\u001b[0m\u001b[0;34m:\u001b[0m\u001b[0;34m\u001b[0m\u001b[0m\n\u001b[1;32m   1847\u001b[0m         \u001b[0;32mtry\u001b[0m\u001b[0;34m:\u001b[0m\u001b[0;34m\u001b[0m\u001b[0m\n\u001b[0;32m-> 1848\u001b[0;31m             \u001b[0mdata\u001b[0m \u001b[0;34m=\u001b[0m \u001b[0mself\u001b[0m\u001b[0;34m.\u001b[0m\u001b[0m_reader\u001b[0m\u001b[0;34m.\u001b[0m\u001b[0mread\u001b[0m\u001b[0;34m(\u001b[0m\u001b[0mnrows\u001b[0m\u001b[0;34m)\u001b[0m\u001b[0;34m\u001b[0m\u001b[0m\n\u001b[0m\u001b[1;32m   1849\u001b[0m         \u001b[0;32mexcept\u001b[0m \u001b[0mStopIteration\u001b[0m\u001b[0;34m:\u001b[0m\u001b[0;34m\u001b[0m\u001b[0m\n\u001b[1;32m   1850\u001b[0m             \u001b[0;32mif\u001b[0m \u001b[0mself\u001b[0m\u001b[0;34m.\u001b[0m\u001b[0m_first_chunk\u001b[0m\u001b[0;34m:\u001b[0m\u001b[0;34m\u001b[0m\u001b[0m\n",
      "\u001b[0;32mpandas/_libs/parsers.pyx\u001b[0m in \u001b[0;36mpandas._libs.parsers.TextReader.read\u001b[0;34m()\u001b[0m\n",
      "\u001b[0;32mpandas/_libs/parsers.pyx\u001b[0m in \u001b[0;36mpandas._libs.parsers.TextReader._read_low_memory\u001b[0;34m()\u001b[0m\n",
      "\u001b[0;32mpandas/_libs/parsers.pyx\u001b[0m in \u001b[0;36mpandas._libs.parsers._concatenate_chunks\u001b[0;34m()\u001b[0m\n",
      "\u001b[0;32m/anaconda2/lib/python2.7/site-packages/pandas/core/dtypes/common.pyc\u001b[0m in \u001b[0;36mis_categorical_dtype\u001b[0;34m(arr_or_dtype)\u001b[0m\n\u001b[1;32m    511\u001b[0m \u001b[0;34m\u001b[0m\u001b[0m\n\u001b[1;32m    512\u001b[0m \u001b[0;34m\u001b[0m\u001b[0m\n\u001b[0;32m--> 513\u001b[0;31m \u001b[0;32mdef\u001b[0m \u001b[0mis_categorical_dtype\u001b[0m\u001b[0;34m(\u001b[0m\u001b[0marr_or_dtype\u001b[0m\u001b[0;34m)\u001b[0m\u001b[0;34m:\u001b[0m\u001b[0;34m\u001b[0m\u001b[0m\n\u001b[0m\u001b[1;32m    514\u001b[0m     \"\"\"\n\u001b[1;32m    515\u001b[0m     \u001b[0mCheck\u001b[0m \u001b[0mwhether\u001b[0m \u001b[0man\u001b[0m \u001b[0marray\u001b[0m\u001b[0;34m-\u001b[0m\u001b[0mlike\u001b[0m \u001b[0;32mor\u001b[0m \u001b[0mdtype\u001b[0m \u001b[0;32mis\u001b[0m \u001b[0mof\u001b[0m \u001b[0mthe\u001b[0m \u001b[0mCategorical\u001b[0m \u001b[0mdtype\u001b[0m\u001b[0;34m.\u001b[0m\u001b[0;34m\u001b[0m\u001b[0m\n",
      "\u001b[0;31mKeyboardInterrupt\u001b[0m: "
     ]
    }
   ],
   "source": [
    "os.chdir('/Users/andreschweizer/Documents/2019W/IEMS 308/Association Rules/Dillards POS')\n",
    "dept = pd.read_csv('deptinfo.csv')\n",
    "skst = pd.read_csv('skstinfo.csv')\n",
    "sku = pd.read_csv('skuinfo.csv')\n",
    "store = pd.read_csv('strinfo.csv')\n",
    "trnsct = pd.read_csv('trnsact.csv', header = None, names = ['SKU','STORE','REGISTER','TRANNUM','SEQ','SALEDATE','STYPE','QUANTITY','I','ORGPRICE','AMOUNT','INTERID','MIC','N'])"
   ]
  },
  {
   "cell_type": "markdown",
   "metadata": {},
   "source": [
    "### Clean data"
   ]
  },
  {
   "cell_type": "code",
   "execution_count": null,
   "metadata": {},
   "outputs": [],
   "source": [
    "# Remove return transactions and unused columns in trnsct\n",
    "trnsct = trnsct[trnsct.STYPE == 'P']\n",
    "trnsct = trnsct.drop(['STYPE','N','I'], axis = 1)"
   ]
  },
  {
   "cell_type": "code",
   "execution_count": null,
   "metadata": {},
   "outputs": [],
   "source": [
    "trnsct.head()"
   ]
  },
  {
   "cell_type": "code",
   "execution_count": 5,
   "metadata": {},
   "outputs": [],
   "source": [
    "# Rearrange skst so SKU number is a column, not an index\n",
    "skst = skst.reset_index()\n",
    "skst.columns = ['SKU','STORE','COST','RETAIL','X']\n",
    "skst = skst.drop('X', axis = 1)"
   ]
  },
  {
   "cell_type": "code",
   "execution_count": 6,
   "metadata": {},
   "outputs": [
    {
     "data": {
      "text/html": [
       "<div>\n",
       "<style scoped>\n",
       "    .dataframe tbody tr th:only-of-type {\n",
       "        vertical-align: middle;\n",
       "    }\n",
       "\n",
       "    .dataframe tbody tr th {\n",
       "        vertical-align: top;\n",
       "    }\n",
       "\n",
       "    .dataframe thead th {\n",
       "        text-align: right;\n",
       "    }\n",
       "</style>\n",
       "<table border=\"1\" class=\"dataframe\">\n",
       "  <thead>\n",
       "    <tr style=\"text-align: right;\">\n",
       "      <th></th>\n",
       "      <th>SKU</th>\n",
       "      <th>STORE</th>\n",
       "      <th>COST</th>\n",
       "      <th>RETAIL</th>\n",
       "    </tr>\n",
       "  </thead>\n",
       "  <tbody>\n",
       "    <tr>\n",
       "      <th>0</th>\n",
       "      <td>3</td>\n",
       "      <td>102</td>\n",
       "      <td>123.36</td>\n",
       "      <td>440.0</td>\n",
       "    </tr>\n",
       "    <tr>\n",
       "      <th>1</th>\n",
       "      <td>3</td>\n",
       "      <td>103</td>\n",
       "      <td>123.36</td>\n",
       "      <td>440.0</td>\n",
       "    </tr>\n",
       "    <tr>\n",
       "      <th>2</th>\n",
       "      <td>3</td>\n",
       "      <td>104</td>\n",
       "      <td>123.36</td>\n",
       "      <td>440.0</td>\n",
       "    </tr>\n",
       "    <tr>\n",
       "      <th>3</th>\n",
       "      <td>3</td>\n",
       "      <td>202</td>\n",
       "      <td>123.36</td>\n",
       "      <td>440.0</td>\n",
       "    </tr>\n",
       "    <tr>\n",
       "      <th>4</th>\n",
       "      <td>3</td>\n",
       "      <td>203</td>\n",
       "      <td>123.36</td>\n",
       "      <td>440.0</td>\n",
       "    </tr>\n",
       "  </tbody>\n",
       "</table>\n",
       "</div>"
      ],
      "text/plain": [
       "   SKU  STORE    COST  RETAIL\n",
       "0    3    102  123.36   440.0\n",
       "1    3    103  123.36   440.0\n",
       "2    3    104  123.36   440.0\n",
       "3    3    202  123.36   440.0\n",
       "4    3    203  123.36   440.0"
      ]
     },
     "execution_count": 6,
     "metadata": {},
     "output_type": "execute_result"
    }
   ],
   "source": [
    "skst.head()"
   ]
  },
  {
   "cell_type": "markdown",
   "metadata": {},
   "source": [
    "### Select potential candidate SKUs"
   ]
  },
  {
   "cell_type": "code",
   "execution_count": 7,
   "metadata": {},
   "outputs": [
    {
     "data": {
      "text/plain": [
       "1564178"
      ]
     },
     "execution_count": 7,
     "metadata": {},
     "output_type": "execute_result"
    }
   ],
   "source": [
    "# Compute number of SKUs\n",
    "len(sku.SKU)"
   ]
  },
  {
   "cell_type": "code",
   "execution_count": 8,
   "metadata": {},
   "outputs": [],
   "source": [
    "# Only keep SKUs sold in IL\n",
    "store = store.reset_index()\n",
    "store.columns = ['STORE','CITY','STATE','ZIP','X']\n",
    "store = store.drop(['X'],axis=1)\n",
    "store = store[store.STATE == 'IL']\n",
    "skst = skst[skst.STORE.isin(store.STORE)]"
   ]
  },
  {
   "cell_type": "code",
   "execution_count": 9,
   "metadata": {},
   "outputs": [
    {
     "data": {
      "text/html": [
       "<div>\n",
       "<style scoped>\n",
       "    .dataframe tbody tr th:only-of-type {\n",
       "        vertical-align: middle;\n",
       "    }\n",
       "\n",
       "    .dataframe tbody tr th {\n",
       "        vertical-align: top;\n",
       "    }\n",
       "\n",
       "    .dataframe thead th {\n",
       "        text-align: right;\n",
       "    }\n",
       "</style>\n",
       "<table border=\"1\" class=\"dataframe\">\n",
       "  <thead>\n",
       "    <tr style=\"text-align: right;\">\n",
       "      <th></th>\n",
       "      <th>STORE</th>\n",
       "      <th>CITY</th>\n",
       "      <th>STATE</th>\n",
       "      <th>ZIP</th>\n",
       "    </tr>\n",
       "  </thead>\n",
       "  <tbody>\n",
       "    <tr>\n",
       "      <th>42</th>\n",
       "      <td>603</td>\n",
       "      <td>FAIRVIEW HEIGHTS</td>\n",
       "      <td>IL</td>\n",
       "      <td>62208</td>\n",
       "    </tr>\n",
       "    <tr>\n",
       "      <th>64</th>\n",
       "      <td>1003</td>\n",
       "      <td>MARION</td>\n",
       "      <td>IL</td>\n",
       "      <td>62959</td>\n",
       "    </tr>\n",
       "    <tr>\n",
       "      <th>251</th>\n",
       "      <td>4903</td>\n",
       "      <td>MOLINE</td>\n",
       "      <td>IL</td>\n",
       "      <td>61265</td>\n",
       "    </tr>\n",
       "  </tbody>\n",
       "</table>\n",
       "</div>"
      ],
      "text/plain": [
       "     STORE                  CITY STATE    ZIP\n",
       "42     603  FAIRVIEW HEIGHTS        IL  62208\n",
       "64    1003  MARION                  IL  62959\n",
       "251   4903  MOLINE                  IL  61265"
      ]
     },
     "execution_count": 9,
     "metadata": {},
     "output_type": "execute_result"
    }
   ],
   "source": [
    "store"
   ]
  },
  {
   "cell_type": "code",
   "execution_count": 10,
   "metadata": {},
   "outputs": [
    {
     "data": {
      "text/html": [
       "<div>\n",
       "<style scoped>\n",
       "    .dataframe tbody tr th:only-of-type {\n",
       "        vertical-align: middle;\n",
       "    }\n",
       "\n",
       "    .dataframe tbody tr th {\n",
       "        vertical-align: top;\n",
       "    }\n",
       "\n",
       "    .dataframe thead th {\n",
       "        text-align: right;\n",
       "    }\n",
       "</style>\n",
       "<table border=\"1\" class=\"dataframe\">\n",
       "  <thead>\n",
       "    <tr style=\"text-align: right;\">\n",
       "      <th></th>\n",
       "      <th>SKU</th>\n",
       "      <th>STORE</th>\n",
       "      <th>COST</th>\n",
       "      <th>RETAIL</th>\n",
       "    </tr>\n",
       "  </thead>\n",
       "  <tbody>\n",
       "    <tr>\n",
       "      <th>16</th>\n",
       "      <td>3</td>\n",
       "      <td>603</td>\n",
       "      <td>123.36</td>\n",
       "      <td>440.0</td>\n",
       "    </tr>\n",
       "    <tr>\n",
       "      <th>28</th>\n",
       "      <td>3</td>\n",
       "      <td>1003</td>\n",
       "      <td>123.36</td>\n",
       "      <td>440.0</td>\n",
       "    </tr>\n",
       "    <tr>\n",
       "      <th>153</th>\n",
       "      <td>3</td>\n",
       "      <td>4903</td>\n",
       "      <td>123.36</td>\n",
       "      <td>440.0</td>\n",
       "    </tr>\n",
       "    <tr>\n",
       "      <th>397</th>\n",
       "      <td>45</td>\n",
       "      <td>603</td>\n",
       "      <td>20.66</td>\n",
       "      <td>59.0</td>\n",
       "    </tr>\n",
       "    <tr>\n",
       "      <th>405</th>\n",
       "      <td>45</td>\n",
       "      <td>1003</td>\n",
       "      <td>20.66</td>\n",
       "      <td>59.0</td>\n",
       "    </tr>\n",
       "  </tbody>\n",
       "</table>\n",
       "</div>"
      ],
      "text/plain": [
       "     SKU  STORE    COST  RETAIL\n",
       "16     3    603  123.36   440.0\n",
       "28     3   1003  123.36   440.0\n",
       "153    3   4903  123.36   440.0\n",
       "397   45    603   20.66    59.0\n",
       "405   45   1003   20.66    59.0"
      ]
     },
     "execution_count": 10,
     "metadata": {},
     "output_type": "execute_result"
    }
   ],
   "source": [
    "skst.head()"
   ]
  },
  {
   "cell_type": "code",
   "execution_count": 11,
   "metadata": {},
   "outputs": [],
   "source": [
    "### Select SKUs with significant contributions to aggregate profit margin\n",
    "# Only keep SKUs for which there is profit data\n",
    "trnsct = trnsct[(trnsct.SKU.isin(skst.SKU)) & (trnsct.STORE.isin(store.STORE))]\n",
    "# Only keep profit data for SKUs that were sold in IL stores\n",
    "skst = skst[skst.SKU.isin(trnsct.SKU)]\n",
    "# Calculate unit profit margin for each SKU in each store\n",
    "MARGIN = skst.RETAIL-skst.COST\n",
    "skst = skst.join(pd.DataFrame(MARGIN))\n",
    "skst.columns = ['SKU','STORE','COST','RETAIL','MARGIN']\n",
    "\n",
    "# Group data by SKU and store\n",
    "sku_groups = trnsct.groupby(by=['SKU','STORE'])\n",
    "\n",
    "# Find how many of each SKU was sold at each store\n",
    "quants = sku_groups.agg({'QUANTITY':['sum']})\n",
    "quants = quants.reset_index()\n",
    "quants.columns = ['SKU','STORE','QUANTITY']\n",
    "PM = pd.merge(quants,skst,how='inner',on=['SKU','STORE'])\n",
    "\n",
    "# Calculate the aggregate profit margin for each SKU\n",
    "profit_margin = (PM.MARGIN)*PM.QUANTITY\n",
    "PM = PM.join(pd.DataFrame(profit_margin))\n",
    "PM.columns = ['SKU','STORE','QUANTITY','COST','RETAIL','MARGIN','PROFIT_MARGIN']\n",
    "PM_grouped = PM.groupby(by = ['SKU'])\n",
    "PM_aggregate = PM_grouped.agg({'PROFIT_MARGIN':['sum']})\n",
    "PM_aggregate.columns = ['PROFIT_MARGIN']"
   ]
  },
  {
   "cell_type": "code",
   "execution_count": 12,
   "metadata": {},
   "outputs": [],
   "source": [
    "# Remove SKUs with negative profit margins\n",
    "pmf = PM_aggregate[PM_aggregate.PROFIT_MARGIN >= 0]"
   ]
  },
  {
   "cell_type": "code",
   "execution_count": 13,
   "metadata": {},
   "outputs": [],
   "source": [
    "# Find SKUs that carry highest percentages of the profit margin\n",
    "pmf = pmf.sort_values(by = ['PROFIT_MARGIN'], axis = 0, ascending = False)\n",
    "pmf = pmf.reset_index()\n",
    "cumul = pd.DataFrame(pmf.PROFIT_MARGIN.cumsum())\n",
    "perc = pd.DataFrame((pmf.PROFIT_MARGIN.cumsum())/pmf.PROFIT_MARGIN.sum())\n",
    "cumul.columns = ['CUMSUM']\n",
    "perc.columns = ['PERCENTAGE']\n",
    "pmf = pmf.join([cumul,perc])"
   ]
  },
  {
   "cell_type": "code",
   "execution_count": 85,
   "metadata": {},
   "outputs": [
    {
     "data": {
      "image/png": "[encoded data removed]",
      "text/plain": [
       "<Figure size 1440x720 with 1 Axes>"
      ]
     },
     "metadata": {
      "needs_background": "light"
     },
     "output_type": "display_data"
    }
   ],
   "source": [
    "# Plot\n",
    "plt.scatter(pmf.index,pmf.PERCENTAGE, c='black')\n",
    "plt.title('Cumulative profit margin contribution vs. Rank of profitability')\n",
    "plt.xlabel(\"SKU's profitability rank\")\n",
    "plt.ylabel(\"Cumulative profit margin contribution (%)\")\n",
    "plt.show()"
   ]
  },
  {
   "cell_type": "code",
   "execution_count": 15,
   "metadata": {},
   "outputs": [],
   "source": [
    "# Find SKUs that represent 99% of profit margin\n",
    "profitable_SKUs = pmf[pmf.PERCENTAGE < 0.99]\n",
    "\n",
    "# Only keep transactions for SKUs that represent 99% of profit margin\n",
    "trnsct = trnsct.loc[trnsct.SKU.isin(profitable_SKUs.SKU)]"
   ]
  },
  {
   "cell_type": "code",
   "execution_count": 16,
   "metadata": {},
   "outputs": [
    {
     "name": "stderr",
     "output_type": "stream",
     "text": [
      "/anaconda2/lib/python2.7/site-packages/ipykernel_launcher.py:3: SettingWithCopyWarning: \n",
      "A value is trying to be set on a copy of a slice from a DataFrame.\n",
      "Try using .loc[row_indexer,col_indexer] = value instead\n",
      "\n",
      "See the caveats in the documentation: http://pandas.pydata.org/pandas-docs/stable/indexing.html#indexing-view-versus-copy\n",
      "  This is separate from the ipykernel package so we can avoid doing imports until\n"
     ]
    }
   ],
   "source": [
    "### Select SKUs with relevant popularity\n",
    "# Find basket sizes\n",
    "trnsct['BASKET'] = trnsct.STORE.astype(str)+trnsct.TRANNUM.astype(str)+trnsct.SALEDATE.astype(str)\n",
    "basket_groups = trnsct.groupby(by=['BASKET'])\n",
    "basketssizes = basket_groups.agg({'SKU':['count']})\n",
    "basketssizes.columns = ['SKUs']\n",
    "avgbasketsize = basketssizes.SKUs.mean()"
   ]
  },
  {
   "cell_type": "code",
   "execution_count": 17,
   "metadata": {},
   "outputs": [
    {
     "data": {
      "text/html": [
       "<div>\n",
       "<style scoped>\n",
       "    .dataframe tbody tr th:only-of-type {\n",
       "        vertical-align: middle;\n",
       "    }\n",
       "\n",
       "    .dataframe tbody tr th {\n",
       "        vertical-align: top;\n",
       "    }\n",
       "\n",
       "    .dataframe thead th {\n",
       "        text-align: right;\n",
       "    }\n",
       "</style>\n",
       "<table border=\"1\" class=\"dataframe\">\n",
       "  <thead>\n",
       "    <tr style=\"text-align: right;\">\n",
       "      <th></th>\n",
       "      <th>SKUs</th>\n",
       "    </tr>\n",
       "    <tr>\n",
       "      <th>BASKET</th>\n",
       "      <th></th>\n",
       "    </tr>\n",
       "  </thead>\n",
       "  <tbody>\n",
       "    <tr>\n",
       "      <th>1003100002004-08-24</th>\n",
       "      <td>1</td>\n",
       "    </tr>\n",
       "    <tr>\n",
       "      <th>1003100002004-10-02</th>\n",
       "      <td>2</td>\n",
       "    </tr>\n",
       "    <tr>\n",
       "      <th>1003100002004-10-05</th>\n",
       "      <td>1</td>\n",
       "    </tr>\n",
       "    <tr>\n",
       "      <th>1003100002004-10-06</th>\n",
       "      <td>3</td>\n",
       "    </tr>\n",
       "    <tr>\n",
       "      <th>1003100002004-10-07</th>\n",
       "      <td>2</td>\n",
       "    </tr>\n",
       "  </tbody>\n",
       "</table>\n",
       "</div>"
      ],
      "text/plain": [
       "                     SKUs\n",
       "BASKET                   \n",
       "1003100002004-08-24     1\n",
       "1003100002004-10-02     2\n",
       "1003100002004-10-05     1\n",
       "1003100002004-10-06     3\n",
       "1003100002004-10-07     2"
      ]
     },
     "execution_count": 17,
     "metadata": {},
     "output_type": "execute_result"
    }
   ],
   "source": [
    "basketssizes.head()"
   ]
  },
  {
   "cell_type": "code",
   "execution_count": 18,
   "metadata": {},
   "outputs": [
    {
     "data": {
      "text/plain": [
       "4.604260331795426"
      ]
     },
     "execution_count": 18,
     "metadata": {},
     "output_type": "execute_result"
    }
   ],
   "source": [
    "avgbasketsize"
   ]
  },
  {
   "cell_type": "code",
   "execution_count": 87,
   "metadata": {},
   "outputs": [],
   "source": [
    "# Find number of baskets each SKU is present in\n",
    "sku_baskets = trnsct.groupby(by=['SKU'])\n",
    "basketcounts = sku_baskets.agg({'BASKET':['count']})\n",
    "basketcounts.columns= ['BASKETS']\n",
    "basketcounts = basketcounts.sort_values(by = ['BASKETS'], axis = 0, ascending = False)"
   ]
  },
  {
   "cell_type": "code",
   "execution_count": 90,
   "metadata": {},
   "outputs": [
    {
     "data": {
      "text/plain": [
       "(2000, 1)"
      ]
     },
     "execution_count": 90,
     "metadata": {},
     "output_type": "execute_result"
    }
   ],
   "source": [
    "basketcounts.shape"
   ]
  },
  {
   "cell_type": "code",
   "execution_count": 86,
   "metadata": {
    "collapsed": true
   },
   "outputs": [
    {
     "data": {
      "image/png": "[encoded data removed]",
      "text/plain": [
       "<Figure size 1440x720 with 1 Axes>"
      ]
     },
     "metadata": {
      "needs_background": "light"
     },
     "output_type": "display_data"
    }
   ],
   "source": [
    "# Plot\n",
    "plt.plot(basketcounts.reset_index().index,basketcounts.BASKETS, c = 'black')\n",
    "plt.title(\"Number of SKU occurrences in baskets\")\n",
    "plt.xlabel(\"SKU ranking in number of occurrences\")\n",
    "plt.ylabel(\"Number of occurrences\")\n",
    "plt.show()"
   ]
  },
  {
   "cell_type": "code",
   "execution_count": 22,
   "metadata": {},
   "outputs": [],
   "source": [
    "# Only keep 2000 most popular SKUs and their corresponding transactions\n",
    "basketcounts = basketcounts.iloc[0:2000,:]\n",
    "trnsct = trnsct[trnsct.SKU.isin(basketcounts.index)]\n",
    "sku = sku[sku.SKU.isin(basketcounts.index)]"
   ]
  },
  {
   "cell_type": "code",
   "execution_count": 23,
   "metadata": {},
   "outputs": [
    {
     "data": {
      "text/html": [
       "<div>\n",
       "<style scoped>\n",
       "    .dataframe tbody tr th:only-of-type {\n",
       "        vertical-align: middle;\n",
       "    }\n",
       "\n",
       "    .dataframe tbody tr th {\n",
       "        vertical-align: top;\n",
       "    }\n",
       "\n",
       "    .dataframe thead th {\n",
       "        text-align: right;\n",
       "    }\n",
       "</style>\n",
       "<table border=\"1\" class=\"dataframe\">\n",
       "  <thead>\n",
       "    <tr style=\"text-align: right;\">\n",
       "      <th></th>\n",
       "      <th>BASKETS</th>\n",
       "    </tr>\n",
       "    <tr>\n",
       "      <th>SKU</th>\n",
       "      <th></th>\n",
       "    </tr>\n",
       "  </thead>\n",
       "  <tbody>\n",
       "    <tr>\n",
       "      <th>3524026</th>\n",
       "      <td>1064</td>\n",
       "    </tr>\n",
       "    <tr>\n",
       "      <th>3978011</th>\n",
       "      <td>934</td>\n",
       "    </tr>\n",
       "    <tr>\n",
       "      <th>5528349</th>\n",
       "      <td>799</td>\n",
       "    </tr>\n",
       "    <tr>\n",
       "      <th>803921</th>\n",
       "      <td>600</td>\n",
       "    </tr>\n",
       "    <tr>\n",
       "      <th>3161221</th>\n",
       "      <td>574</td>\n",
       "    </tr>\n",
       "  </tbody>\n",
       "</table>\n",
       "</div>"
      ],
      "text/plain": [
       "         BASKETS\n",
       "SKU             \n",
       "3524026     1064\n",
       "3978011      934\n",
       "5528349      799\n",
       "803921       600\n",
       "3161221      574"
      ]
     },
     "execution_count": 23,
     "metadata": {},
     "output_type": "execute_result"
    }
   ],
   "source": [
    "basketcounts.head()"
   ]
  },
  {
   "cell_type": "markdown",
   "metadata": {},
   "source": [
    "### Association rules"
   ]
  },
  {
   "cell_type": "code",
   "execution_count": 25,
   "metadata": {},
   "outputs": [],
   "source": [
    "# One-hot encode transactions\n",
    "basket_skus = trnsct[['BASKET','SKU']]\n",
    "baskets = pd.crosstab(basket_skus.BASKET,basket_skus.SKU, margins=True)\n",
    "baskets.to_csv(\"baskets\")\n",
    "baskets = baskets.drop(['All'], axis = 1)\n",
    "baskets = baskets.drop(['All'], axis = 0)\n",
    "baskets[baskets > 1] = 1\n",
    "baskets = baskets.astype('bool')"
   ]
  },
  {
   "cell_type": "code",
   "execution_count": 26,
   "metadata": {},
   "outputs": [
    {
     "data": {
      "text/html": [
       "<div>\n",
       "<style scoped>\n",
       "    .dataframe tbody tr th:only-of-type {\n",
       "        vertical-align: middle;\n",
       "    }\n",
       "\n",
       "    .dataframe tbody tr th {\n",
       "        vertical-align: top;\n",
       "    }\n",
       "\n",
       "    .dataframe thead th {\n",
       "        text-align: right;\n",
       "    }\n",
       "</style>\n",
       "<table border=\"1\" class=\"dataframe\">\n",
       "  <thead>\n",
       "    <tr style=\"text-align: right;\">\n",
       "      <th>SKU</th>\n",
       "      <th>7915</th>\n",
       "      <th>9633</th>\n",
       "      <th>9951</th>\n",
       "      <th>10896</th>\n",
       "      <th>17915</th>\n",
       "      <th>19171</th>\n",
       "      <th>19633</th>\n",
       "      <th>19951</th>\n",
       "      <th>27402</th>\n",
       "      <th>28371</th>\n",
       "      <th>...</th>\n",
       "      <th>9957390</th>\n",
       "      <th>9964307</th>\n",
       "      <th>9969756</th>\n",
       "      <th>9978362</th>\n",
       "      <th>9979950</th>\n",
       "      <th>9982306</th>\n",
       "      <th>9992306</th>\n",
       "      <th>9993749</th>\n",
       "      <th>9999170</th>\n",
       "      <th>9999950</th>\n",
       "    </tr>\n",
       "    <tr>\n",
       "      <th>BASKET</th>\n",
       "      <th></th>\n",
       "      <th></th>\n",
       "      <th></th>\n",
       "      <th></th>\n",
       "      <th></th>\n",
       "      <th></th>\n",
       "      <th></th>\n",
       "      <th></th>\n",
       "      <th></th>\n",
       "      <th></th>\n",
       "      <th></th>\n",
       "      <th></th>\n",
       "      <th></th>\n",
       "      <th></th>\n",
       "      <th></th>\n",
       "      <th></th>\n",
       "      <th></th>\n",
       "      <th></th>\n",
       "      <th></th>\n",
       "      <th></th>\n",
       "      <th></th>\n",
       "    </tr>\n",
       "  </thead>\n",
       "  <tbody>\n",
       "    <tr>\n",
       "      <th>1003100002004-10-05</th>\n",
       "      <td>False</td>\n",
       "      <td>False</td>\n",
       "      <td>False</td>\n",
       "      <td>False</td>\n",
       "      <td>False</td>\n",
       "      <td>False</td>\n",
       "      <td>False</td>\n",
       "      <td>False</td>\n",
       "      <td>False</td>\n",
       "      <td>False</td>\n",
       "      <td>...</td>\n",
       "      <td>False</td>\n",
       "      <td>False</td>\n",
       "      <td>False</td>\n",
       "      <td>False</td>\n",
       "      <td>False</td>\n",
       "      <td>False</td>\n",
       "      <td>False</td>\n",
       "      <td>False</td>\n",
       "      <td>False</td>\n",
       "      <td>False</td>\n",
       "    </tr>\n",
       "    <tr>\n",
       "      <th>1003100002004-10-06</th>\n",
       "      <td>False</td>\n",
       "      <td>False</td>\n",
       "      <td>False</td>\n",
       "      <td>False</td>\n",
       "      <td>False</td>\n",
       "      <td>False</td>\n",
       "      <td>False</td>\n",
       "      <td>False</td>\n",
       "      <td>False</td>\n",
       "      <td>False</td>\n",
       "      <td>...</td>\n",
       "      <td>False</td>\n",
       "      <td>False</td>\n",
       "      <td>False</td>\n",
       "      <td>False</td>\n",
       "      <td>False</td>\n",
       "      <td>False</td>\n",
       "      <td>False</td>\n",
       "      <td>False</td>\n",
       "      <td>False</td>\n",
       "      <td>False</td>\n",
       "    </tr>\n",
       "    <tr>\n",
       "      <th>1003100002004-10-07</th>\n",
       "      <td>False</td>\n",
       "      <td>False</td>\n",
       "      <td>False</td>\n",
       "      <td>False</td>\n",
       "      <td>False</td>\n",
       "      <td>False</td>\n",
       "      <td>False</td>\n",
       "      <td>False</td>\n",
       "      <td>False</td>\n",
       "      <td>False</td>\n",
       "      <td>...</td>\n",
       "      <td>False</td>\n",
       "      <td>False</td>\n",
       "      <td>False</td>\n",
       "      <td>False</td>\n",
       "      <td>False</td>\n",
       "      <td>False</td>\n",
       "      <td>False</td>\n",
       "      <td>False</td>\n",
       "      <td>False</td>\n",
       "      <td>False</td>\n",
       "    </tr>\n",
       "    <tr>\n",
       "      <th>1003100002004-10-08</th>\n",
       "      <td>False</td>\n",
       "      <td>False</td>\n",
       "      <td>False</td>\n",
       "      <td>False</td>\n",
       "      <td>False</td>\n",
       "      <td>False</td>\n",
       "      <td>False</td>\n",
       "      <td>False</td>\n",
       "      <td>False</td>\n",
       "      <td>False</td>\n",
       "      <td>...</td>\n",
       "      <td>False</td>\n",
       "      <td>False</td>\n",
       "      <td>False</td>\n",
       "      <td>False</td>\n",
       "      <td>False</td>\n",
       "      <td>False</td>\n",
       "      <td>False</td>\n",
       "      <td>False</td>\n",
       "      <td>False</td>\n",
       "      <td>False</td>\n",
       "    </tr>\n",
       "    <tr>\n",
       "      <th>1003100002004-10-09</th>\n",
       "      <td>False</td>\n",
       "      <td>False</td>\n",
       "      <td>False</td>\n",
       "      <td>False</td>\n",
       "      <td>False</td>\n",
       "      <td>False</td>\n",
       "      <td>False</td>\n",
       "      <td>False</td>\n",
       "      <td>False</td>\n",
       "      <td>False</td>\n",
       "      <td>...</td>\n",
       "      <td>False</td>\n",
       "      <td>False</td>\n",
       "      <td>False</td>\n",
       "      <td>False</td>\n",
       "      <td>False</td>\n",
       "      <td>False</td>\n",
       "      <td>False</td>\n",
       "      <td>False</td>\n",
       "      <td>False</td>\n",
       "      <td>False</td>\n",
       "    </tr>\n",
       "  </tbody>\n",
       "</table>\n",
       "<p>5 rows × 2000 columns</p>\n",
       "</div>"
      ],
      "text/plain": [
       "SKU                  7915     9633     9951     10896    17915    19171    19633    19951    27402    28371     ...     9957390  9964307  9969756  9978362  9979950  9982306  9992306  9993749  9999170  9999950\n",
       "BASKET                                                                                                          ...                                                                                             \n",
       "1003100002004-10-05    False    False    False    False    False    False    False    False    False    False   ...       False    False    False    False    False    False    False    False    False    False\n",
       "1003100002004-10-06    False    False    False    False    False    False    False    False    False    False   ...       False    False    False    False    False    False    False    False    False    False\n",
       "1003100002004-10-07    False    False    False    False    False    False    False    False    False    False   ...       False    False    False    False    False    False    False    False    False    False\n",
       "1003100002004-10-08    False    False    False    False    False    False    False    False    False    False   ...       False    False    False    False    False    False    False    False    False    False\n",
       "1003100002004-10-09    False    False    False    False    False    False    False    False    False    False   ...       False    False    False    False    False    False    False    False    False    False\n",
       "\n",
       "[5 rows x 2000 columns]"
      ]
     },
     "execution_count": 26,
     "metadata": {},
     "output_type": "execute_result"
    }
   ],
   "source": [
    "baskets.head()"
   ]
  },
  {
   "cell_type": "code",
   "execution_count": 58,
   "metadata": {},
   "outputs": [],
   "source": [
    "# Use apriori to find association rules\n",
    "support = apriori(baskets,min_support = 0.0001, use_colnames = True)"
   ]
  },
  {
   "cell_type": "code",
   "execution_count": 59,
   "metadata": {},
   "outputs": [
    {
     "data": {
      "text/html": [
       "<div>\n",
       "<style scoped>\n",
       "    .dataframe tbody tr th:only-of-type {\n",
       "        vertical-align: middle;\n",
       "    }\n",
       "\n",
       "    .dataframe tbody tr th {\n",
       "        vertical-align: top;\n",
       "    }\n",
       "\n",
       "    .dataframe thead th {\n",
       "        text-align: right;\n",
       "    }\n",
       "</style>\n",
       "<table border=\"1\" class=\"dataframe\">\n",
       "  <thead>\n",
       "    <tr style=\"text-align: right;\">\n",
       "      <th></th>\n",
       "      <th>support</th>\n",
       "      <th>itemsets</th>\n",
       "    </tr>\n",
       "  </thead>\n",
       "  <tbody>\n",
       "    <tr>\n",
       "      <th>0</th>\n",
       "      <td>0.002300</td>\n",
       "      <td>(7915)</td>\n",
       "    </tr>\n",
       "    <tr>\n",
       "      <th>1</th>\n",
       "      <td>0.002091</td>\n",
       "      <td>(9633)</td>\n",
       "    </tr>\n",
       "    <tr>\n",
       "      <th>2</th>\n",
       "      <td>0.000687</td>\n",
       "      <td>(9951)</td>\n",
       "    </tr>\n",
       "    <tr>\n",
       "      <th>3</th>\n",
       "      <td>0.001464</td>\n",
       "      <td>(10896)</td>\n",
       "    </tr>\n",
       "    <tr>\n",
       "      <th>4</th>\n",
       "      <td>0.001703</td>\n",
       "      <td>(17915)</td>\n",
       "    </tr>\n",
       "  </tbody>\n",
       "</table>\n",
       "</div>"
      ],
      "text/plain": [
       "    support itemsets\n",
       "0  0.002300   (7915)\n",
       "1  0.002091   (9633)\n",
       "2  0.000687   (9951)\n",
       "3  0.001464  (10896)\n",
       "4  0.001703  (17915)"
      ]
     },
     "execution_count": 59,
     "metadata": {},
     "output_type": "execute_result"
    }
   ],
   "source": [
    "support.head()"
   ]
  },
  {
   "cell_type": "code",
   "execution_count": 60,
   "metadata": {},
   "outputs": [
    {
     "data": {
      "text/html": [
       "<div>\n",
       "<style scoped>\n",
       "    .dataframe tbody tr th:only-of-type {\n",
       "        vertical-align: middle;\n",
       "    }\n",
       "\n",
       "    .dataframe tbody tr th {\n",
       "        vertical-align: top;\n",
       "    }\n",
       "\n",
       "    .dataframe thead th {\n",
       "        text-align: right;\n",
       "    }\n",
       "</style>\n",
       "<table border=\"1\" class=\"dataframe\">\n",
       "  <thead>\n",
       "    <tr style=\"text-align: right;\">\n",
       "      <th></th>\n",
       "      <th>antecedents</th>\n",
       "      <th>consequents</th>\n",
       "      <th>antecedent support</th>\n",
       "      <th>consequent support</th>\n",
       "      <th>support</th>\n",
       "      <th>confidence</th>\n",
       "      <th>lift</th>\n",
       "      <th>leverage</th>\n",
       "      <th>conviction</th>\n",
       "    </tr>\n",
       "  </thead>\n",
       "  <tbody>\n",
       "    <tr>\n",
       "      <th>35</th>\n",
       "      <td>(3898011)</td>\n",
       "      <td>(3968011)</td>\n",
       "      <td>0.010544</td>\n",
       "      <td>0.012814</td>\n",
       "      <td>0.003256</td>\n",
       "      <td>0.308782</td>\n",
       "      <td>24.096502</td>\n",
       "      <td>0.003121</td>\n",
       "      <td>1.428182</td>\n",
       "    </tr>\n",
       "    <tr>\n",
       "      <th>34</th>\n",
       "      <td>(3968011)</td>\n",
       "      <td>(3898011)</td>\n",
       "      <td>0.012814</td>\n",
       "      <td>0.010544</td>\n",
       "      <td>0.003256</td>\n",
       "      <td>0.254079</td>\n",
       "      <td>24.096502</td>\n",
       "      <td>0.003121</td>\n",
       "      <td>1.326489</td>\n",
       "    </tr>\n",
       "    <tr>\n",
       "      <th>33</th>\n",
       "      <td>(3978011)</td>\n",
       "      <td>(3524026)</td>\n",
       "      <td>0.027302</td>\n",
       "      <td>0.030587</td>\n",
       "      <td>0.003196</td>\n",
       "      <td>0.117068</td>\n",
       "      <td>3.827341</td>\n",
       "      <td>0.002361</td>\n",
       "      <td>1.097947</td>\n",
       "    </tr>\n",
       "    <tr>\n",
       "      <th>32</th>\n",
       "      <td>(3524026)</td>\n",
       "      <td>(3978011)</td>\n",
       "      <td>0.030587</td>\n",
       "      <td>0.027302</td>\n",
       "      <td>0.003196</td>\n",
       "      <td>0.104492</td>\n",
       "      <td>3.827341</td>\n",
       "      <td>0.002361</td>\n",
       "      <td>1.086198</td>\n",
       "    </tr>\n",
       "    <tr>\n",
       "      <th>14</th>\n",
       "      <td>(3978011)</td>\n",
       "      <td>(3898011)</td>\n",
       "      <td>0.027302</td>\n",
       "      <td>0.010544</td>\n",
       "      <td>0.002599</td>\n",
       "      <td>0.095186</td>\n",
       "      <td>9.027300</td>\n",
       "      <td>0.002311</td>\n",
       "      <td>1.093546</td>\n",
       "    </tr>\n",
       "  </tbody>\n",
       "</table>\n",
       "</div>"
      ],
      "text/plain": [
       "   antecedents consequents  antecedent support  consequent support   support  confidence       lift  leverage  conviction\n",
       "35   (3898011)   (3968011)            0.010544            0.012814  0.003256    0.308782  24.096502  0.003121    1.428182\n",
       "34   (3968011)   (3898011)            0.012814            0.010544  0.003256    0.254079  24.096502  0.003121    1.326489\n",
       "33   (3978011)   (3524026)            0.027302            0.030587  0.003196    0.117068   3.827341  0.002361    1.097947\n",
       "32   (3524026)   (3978011)            0.030587            0.027302  0.003196    0.104492   3.827341  0.002361    1.086198\n",
       "14   (3978011)   (3898011)            0.027302            0.010544  0.002599    0.095186   9.027300  0.002311    1.093546"
      ]
     },
     "execution_count": 60,
     "metadata": {},
     "output_type": "execute_result"
    }
   ],
   "source": [
    "# Mine association rules based on support values\n",
    "rules_sup = association_rules(support, metric=\"support\", min_threshold = 0.001)\n",
    "rules_sup = rules_sup.sort_values(by = ['support'], axis = 0, ascending = False)\n",
    "rules_sup.head()"
   ]
  },
  {
   "cell_type": "code",
   "execution_count": 61,
   "metadata": {},
   "outputs": [
    {
     "data": {
      "text/html": [
       "<div>\n",
       "<style scoped>\n",
       "    .dataframe tbody tr th:only-of-type {\n",
       "        vertical-align: middle;\n",
       "    }\n",
       "\n",
       "    .dataframe tbody tr th {\n",
       "        vertical-align: top;\n",
       "    }\n",
       "\n",
       "    .dataframe thead th {\n",
       "        text-align: right;\n",
       "    }\n",
       "</style>\n",
       "<table border=\"1\" class=\"dataframe\">\n",
       "  <thead>\n",
       "    <tr style=\"text-align: right;\">\n",
       "      <th></th>\n",
       "      <th>antecedents</th>\n",
       "      <th>consequents</th>\n",
       "      <th>antecedent support</th>\n",
       "      <th>consequent support</th>\n",
       "      <th>support</th>\n",
       "      <th>confidence</th>\n",
       "      <th>lift</th>\n",
       "      <th>leverage</th>\n",
       "      <th>conviction</th>\n",
       "    </tr>\n",
       "  </thead>\n",
       "  <tbody>\n",
       "    <tr>\n",
       "      <th>3176</th>\n",
       "      <td>(3218302)</td>\n",
       "      <td>(2088302)</td>\n",
       "      <td>0.000209</td>\n",
       "      <td>0.000329</td>\n",
       "      <td>0.000209</td>\n",
       "      <td>1.0</td>\n",
       "      <td>3043.454545</td>\n",
       "      <td>0.000209</td>\n",
       "      <td>inf</td>\n",
       "    </tr>\n",
       "    <tr>\n",
       "      <th>4346</th>\n",
       "      <td>(6290353, 6370353)</td>\n",
       "      <td>(6260353)</td>\n",
       "      <td>0.000119</td>\n",
       "      <td>0.000926</td>\n",
       "      <td>0.000119</td>\n",
       "      <td>1.0</td>\n",
       "      <td>1079.935484</td>\n",
       "      <td>0.000119</td>\n",
       "      <td>inf</td>\n",
       "    </tr>\n",
       "    <tr>\n",
       "      <th>1930</th>\n",
       "      <td>(4472217)</td>\n",
       "      <td>(7351914)</td>\n",
       "      <td>0.000597</td>\n",
       "      <td>0.003435</td>\n",
       "      <td>0.000597</td>\n",
       "      <td>1.0</td>\n",
       "      <td>291.113043</td>\n",
       "      <td>0.000595</td>\n",
       "      <td>inf</td>\n",
       "    </tr>\n",
       "    <tr>\n",
       "      <th>572</th>\n",
       "      <td>(6833806)</td>\n",
       "      <td>(7063806)</td>\n",
       "      <td>0.000329</td>\n",
       "      <td>0.000448</td>\n",
       "      <td>0.000329</td>\n",
       "      <td>1.0</td>\n",
       "      <td>2231.866667</td>\n",
       "      <td>0.000328</td>\n",
       "      <td>inf</td>\n",
       "    </tr>\n",
       "    <tr>\n",
       "      <th>3004</th>\n",
       "      <td>(3547981, 2754854)</td>\n",
       "      <td>(3537981)</td>\n",
       "      <td>0.000149</td>\n",
       "      <td>0.012994</td>\n",
       "      <td>0.000149</td>\n",
       "      <td>1.0</td>\n",
       "      <td>76.960920</td>\n",
       "      <td>0.000147</td>\n",
       "      <td>inf</td>\n",
       "    </tr>\n",
       "  </tbody>\n",
       "</table>\n",
       "</div>"
      ],
      "text/plain": [
       "             antecedents consequents  antecedent support  consequent support   support  confidence         lift  leverage  conviction\n",
       "3176           (3218302)   (2088302)            0.000209            0.000329  0.000209         1.0  3043.454545  0.000209         inf\n",
       "4346  (6290353, 6370353)   (6260353)            0.000119            0.000926  0.000119         1.0  1079.935484  0.000119         inf\n",
       "1930           (4472217)   (7351914)            0.000597            0.003435  0.000597         1.0   291.113043  0.000595         inf\n",
       "572            (6833806)   (7063806)            0.000329            0.000448  0.000329         1.0  2231.866667  0.000328         inf\n",
       "3004  (3547981, 2754854)   (3537981)            0.000149            0.012994  0.000149         1.0    76.960920  0.000147         inf"
      ]
     },
     "execution_count": 61,
     "metadata": {},
     "output_type": "execute_result"
    }
   ],
   "source": [
    "# Mine association rules based on confidence values\n",
    "rules_conf = association_rules(support, metric=\"confidence\", min_threshold=0.001)\n",
    "rules_conf = rules_conf.sort_values(by = ['confidence'], axis = 0, ascending = False)\n",
    "rules_conf.head()"
   ]
  },
  {
   "cell_type": "code",
   "execution_count": 62,
   "metadata": {},
   "outputs": [],
   "source": [
    "# Rank rules by confidence, support and lift\n",
    "rules_conf[\"Rank Sup\"] = rules_conf[\"support\"].rank(method = 'min', ascending = False)\n",
    "rules_conf[\"Rank Conf\"] = rules_conf[\"confidence\"].rank(method = 'min', ascending = False)\n",
    "rules_conf[\"Rank Lift\"] = rules_conf[\"lift\"].rank(method = 'min', ascending = False)\n",
    "rules_sup[\"Rank Sup\"] = rules_sup[\"support\"].rank(method = 'min', ascending = False)\n",
    "rules_sup[\"Rank Conf\"] = rules_sup[\"confidence\"].rank(method = 'min', ascending = False)\n",
    "rules_sup[\"Rank Lift\"] = rules_sup[\"lift\"].rank(method = 'min', ascending = False)"
   ]
  },
  {
   "cell_type": "code",
   "execution_count": 63,
   "metadata": {},
   "outputs": [
    {
     "data": {
      "text/html": [
       "<div>\n",
       "<style scoped>\n",
       "    .dataframe tbody tr th:only-of-type {\n",
       "        vertical-align: middle;\n",
       "    }\n",
       "\n",
       "    .dataframe tbody tr th {\n",
       "        vertical-align: top;\n",
       "    }\n",
       "\n",
       "    .dataframe thead th {\n",
       "        text-align: right;\n",
       "    }\n",
       "</style>\n",
       "<table border=\"1\" class=\"dataframe\">\n",
       "  <thead>\n",
       "    <tr style=\"text-align: right;\">\n",
       "      <th></th>\n",
       "      <th>antecedents</th>\n",
       "      <th>consequents</th>\n",
       "      <th>antecedent support</th>\n",
       "      <th>consequent support</th>\n",
       "      <th>support</th>\n",
       "      <th>confidence</th>\n",
       "      <th>lift</th>\n",
       "      <th>leverage</th>\n",
       "      <th>conviction</th>\n",
       "      <th>Rank Sup</th>\n",
       "      <th>Rank Conf</th>\n",
       "      <th>Rank Lift</th>\n",
       "    </tr>\n",
       "  </thead>\n",
       "  <tbody>\n",
       "    <tr>\n",
       "      <th>35</th>\n",
       "      <td>(3898011)</td>\n",
       "      <td>(3968011)</td>\n",
       "      <td>0.010544</td>\n",
       "      <td>0.012814</td>\n",
       "      <td>0.003256</td>\n",
       "      <td>0.308782</td>\n",
       "      <td>24.096502</td>\n",
       "      <td>0.003121</td>\n",
       "      <td>1.428182</td>\n",
       "      <td>1.0</td>\n",
       "      <td>7.0</td>\n",
       "      <td>15.0</td>\n",
       "    </tr>\n",
       "    <tr>\n",
       "      <th>34</th>\n",
       "      <td>(3968011)</td>\n",
       "      <td>(3898011)</td>\n",
       "      <td>0.012814</td>\n",
       "      <td>0.010544</td>\n",
       "      <td>0.003256</td>\n",
       "      <td>0.254079</td>\n",
       "      <td>24.096502</td>\n",
       "      <td>0.003121</td>\n",
       "      <td>1.326489</td>\n",
       "      <td>1.0</td>\n",
       "      <td>11.0</td>\n",
       "      <td>15.0</td>\n",
       "    </tr>\n",
       "    <tr>\n",
       "      <th>33</th>\n",
       "      <td>(3978011)</td>\n",
       "      <td>(3524026)</td>\n",
       "      <td>0.027302</td>\n",
       "      <td>0.030587</td>\n",
       "      <td>0.003196</td>\n",
       "      <td>0.117068</td>\n",
       "      <td>3.827341</td>\n",
       "      <td>0.002361</td>\n",
       "      <td>1.097947</td>\n",
       "      <td>3.0</td>\n",
       "      <td>26.0</td>\n",
       "      <td>31.0</td>\n",
       "    </tr>\n",
       "    <tr>\n",
       "      <th>32</th>\n",
       "      <td>(3524026)</td>\n",
       "      <td>(3978011)</td>\n",
       "      <td>0.030587</td>\n",
       "      <td>0.027302</td>\n",
       "      <td>0.003196</td>\n",
       "      <td>0.104492</td>\n",
       "      <td>3.827341</td>\n",
       "      <td>0.002361</td>\n",
       "      <td>1.086198</td>\n",
       "      <td>3.0</td>\n",
       "      <td>27.0</td>\n",
       "      <td>32.0</td>\n",
       "    </tr>\n",
       "    <tr>\n",
       "      <th>14</th>\n",
       "      <td>(3978011)</td>\n",
       "      <td>(3898011)</td>\n",
       "      <td>0.027302</td>\n",
       "      <td>0.010544</td>\n",
       "      <td>0.002599</td>\n",
       "      <td>0.095186</td>\n",
       "      <td>9.027300</td>\n",
       "      <td>0.002311</td>\n",
       "      <td>1.093546</td>\n",
       "      <td>5.0</td>\n",
       "      <td>28.0</td>\n",
       "      <td>25.0</td>\n",
       "    </tr>\n",
       "  </tbody>\n",
       "</table>\n",
       "</div>"
      ],
      "text/plain": [
       "   antecedents consequents  antecedent support  consequent support   support  confidence       lift  leverage  conviction  Rank Sup  Rank Conf  Rank Lift\n",
       "35   (3898011)   (3968011)            0.010544            0.012814  0.003256    0.308782  24.096502  0.003121    1.428182       1.0        7.0       15.0\n",
       "34   (3968011)   (3898011)            0.012814            0.010544  0.003256    0.254079  24.096502  0.003121    1.326489       1.0       11.0       15.0\n",
       "33   (3978011)   (3524026)            0.027302            0.030587  0.003196    0.117068   3.827341  0.002361    1.097947       3.0       26.0       31.0\n",
       "32   (3524026)   (3978011)            0.030587            0.027302  0.003196    0.104492   3.827341  0.002361    1.086198       3.0       27.0       32.0\n",
       "14   (3978011)   (3898011)            0.027302            0.010544  0.002599    0.095186   9.027300  0.002311    1.093546       5.0       28.0       25.0"
      ]
     },
     "execution_count": 63,
     "metadata": {},
     "output_type": "execute_result"
    }
   ],
   "source": [
    "rules_sup.head()"
   ]
  },
  {
   "cell_type": "code",
   "execution_count": 64,
   "metadata": {},
   "outputs": [
    {
     "data": {
      "text/html": [
       "<div>\n",
       "<style scoped>\n",
       "    .dataframe tbody tr th:only-of-type {\n",
       "        vertical-align: middle;\n",
       "    }\n",
       "\n",
       "    .dataframe tbody tr th {\n",
       "        vertical-align: top;\n",
       "    }\n",
       "\n",
       "    .dataframe thead th {\n",
       "        text-align: right;\n",
       "    }\n",
       "</style>\n",
       "<table border=\"1\" class=\"dataframe\">\n",
       "  <thead>\n",
       "    <tr style=\"text-align: right;\">\n",
       "      <th></th>\n",
       "      <th>antecedents</th>\n",
       "      <th>consequents</th>\n",
       "      <th>antecedent support</th>\n",
       "      <th>consequent support</th>\n",
       "      <th>support</th>\n",
       "      <th>confidence</th>\n",
       "      <th>lift</th>\n",
       "      <th>leverage</th>\n",
       "      <th>conviction</th>\n",
       "      <th>Rank Sup</th>\n",
       "      <th>Rank Conf</th>\n",
       "      <th>Rank Lift</th>\n",
       "    </tr>\n",
       "  </thead>\n",
       "  <tbody>\n",
       "    <tr>\n",
       "      <th>3176</th>\n",
       "      <td>(3218302)</td>\n",
       "      <td>(2088302)</td>\n",
       "      <td>0.000209</td>\n",
       "      <td>0.000329</td>\n",
       "      <td>0.000209</td>\n",
       "      <td>1.0</td>\n",
       "      <td>3043.454545</td>\n",
       "      <td>0.000209</td>\n",
       "      <td>inf</td>\n",
       "      <td>1077.0</td>\n",
       "      <td>1.0</td>\n",
       "      <td>5.0</td>\n",
       "    </tr>\n",
       "    <tr>\n",
       "      <th>4346</th>\n",
       "      <td>(6290353, 6370353)</td>\n",
       "      <td>(6260353)</td>\n",
       "      <td>0.000119</td>\n",
       "      <td>0.000926</td>\n",
       "      <td>0.000119</td>\n",
       "      <td>1.0</td>\n",
       "      <td>1079.935484</td>\n",
       "      <td>0.000119</td>\n",
       "      <td>inf</td>\n",
       "      <td>2833.0</td>\n",
       "      <td>1.0</td>\n",
       "      <td>299.0</td>\n",
       "    </tr>\n",
       "    <tr>\n",
       "      <th>1930</th>\n",
       "      <td>(4472217)</td>\n",
       "      <td>(7351914)</td>\n",
       "      <td>0.000597</td>\n",
       "      <td>0.003435</td>\n",
       "      <td>0.000597</td>\n",
       "      <td>1.0</td>\n",
       "      <td>291.113043</td>\n",
       "      <td>0.000595</td>\n",
       "      <td>inf</td>\n",
       "      <td>85.0</td>\n",
       "      <td>1.0</td>\n",
       "      <td>1117.0</td>\n",
       "    </tr>\n",
       "    <tr>\n",
       "      <th>572</th>\n",
       "      <td>(6833806)</td>\n",
       "      <td>(7063806)</td>\n",
       "      <td>0.000329</td>\n",
       "      <td>0.000448</td>\n",
       "      <td>0.000329</td>\n",
       "      <td>1.0</td>\n",
       "      <td>2231.866667</td>\n",
       "      <td>0.000328</td>\n",
       "      <td>inf</td>\n",
       "      <td>391.0</td>\n",
       "      <td>1.0</td>\n",
       "      <td>23.0</td>\n",
       "    </tr>\n",
       "    <tr>\n",
       "      <th>3004</th>\n",
       "      <td>(3547981, 2754854)</td>\n",
       "      <td>(3537981)</td>\n",
       "      <td>0.000149</td>\n",
       "      <td>0.012994</td>\n",
       "      <td>0.000149</td>\n",
       "      <td>1.0</td>\n",
       "      <td>76.960920</td>\n",
       "      <td>0.000147</td>\n",
       "      <td>inf</td>\n",
       "      <td>1895.0</td>\n",
       "      <td>1.0</td>\n",
       "      <td>1581.0</td>\n",
       "    </tr>\n",
       "  </tbody>\n",
       "</table>\n",
       "</div>"
      ],
      "text/plain": [
       "             antecedents consequents  antecedent support  consequent support   support  confidence         lift  leverage  conviction  Rank Sup  Rank Conf  Rank Lift\n",
       "3176           (3218302)   (2088302)            0.000209            0.000329  0.000209         1.0  3043.454545  0.000209         inf    1077.0        1.0        5.0\n",
       "4346  (6290353, 6370353)   (6260353)            0.000119            0.000926  0.000119         1.0  1079.935484  0.000119         inf    2833.0        1.0      299.0\n",
       "1930           (4472217)   (7351914)            0.000597            0.003435  0.000597         1.0   291.113043  0.000595         inf      85.0        1.0     1117.0\n",
       "572            (6833806)   (7063806)            0.000329            0.000448  0.000329         1.0  2231.866667  0.000328         inf     391.0        1.0       23.0\n",
       "3004  (3547981, 2754854)   (3537981)            0.000149            0.012994  0.000149         1.0    76.960920  0.000147         inf    1895.0        1.0     1581.0"
      ]
     },
     "execution_count": 64,
     "metadata": {},
     "output_type": "execute_result"
    }
   ],
   "source": [
    "rules_conf.head()"
   ]
  },
  {
   "cell_type": "code",
   "execution_count": 65,
   "metadata": {},
   "outputs": [],
   "source": [
    "#%% Compute average rank between 3 metrics\n",
    "rules_conf[\"Avg Rank\"] = rules_conf.loc[:,[\"Rank Sup\",\"Rank Conf\", \"Rank Lift\"]].mean(axis = 1)\n",
    "rules_sup[\"Avg Rank\"] = rules_sup.loc[:,[\"Rank Sup\",\"Rank Conf\", \"Rank Lift\"]].mean(axis = 1)\n",
    "rules_conf = rules_conf.sort_values(by = [\"Avg Rank\"], axis = 0)\n",
    "rules_sup = rules_sup.sort_values(by = [\"Avg Rank\"], axis = 0)"
   ]
  },
  {
   "cell_type": "code",
   "execution_count": 66,
   "metadata": {},
   "outputs": [
    {
     "data": {
      "text/html": [
       "<div>\n",
       "<style scoped>\n",
       "    .dataframe tbody tr th:only-of-type {\n",
       "        vertical-align: middle;\n",
       "    }\n",
       "\n",
       "    .dataframe tbody tr th {\n",
       "        vertical-align: top;\n",
       "    }\n",
       "\n",
       "    .dataframe thead th {\n",
       "        text-align: right;\n",
       "    }\n",
       "</style>\n",
       "<table border=\"1\" class=\"dataframe\">\n",
       "  <thead>\n",
       "    <tr style=\"text-align: right;\">\n",
       "      <th></th>\n",
       "      <th>antecedents</th>\n",
       "      <th>consequents</th>\n",
       "      <th>antecedent support</th>\n",
       "      <th>consequent support</th>\n",
       "      <th>support</th>\n",
       "      <th>confidence</th>\n",
       "      <th>lift</th>\n",
       "      <th>leverage</th>\n",
       "      <th>conviction</th>\n",
       "      <th>Rank Sup</th>\n",
       "      <th>Rank Conf</th>\n",
       "      <th>Rank Lift</th>\n",
       "      <th>Avg Rank</th>\n",
       "    </tr>\n",
       "  </thead>\n",
       "  <tbody>\n",
       "    <tr>\n",
       "      <th>22</th>\n",
       "      <td>(3898011, 3690654)</td>\n",
       "      <td>(3968011)</td>\n",
       "      <td>0.001882</td>\n",
       "      <td>0.012814</td>\n",
       "      <td>0.001703</td>\n",
       "      <td>0.904762</td>\n",
       "      <td>70.605173</td>\n",
       "      <td>0.001678</td>\n",
       "      <td>10.365449</td>\n",
       "      <td>13.0</td>\n",
       "      <td>1.0</td>\n",
       "      <td>1.0</td>\n",
       "      <td>5.000000</td>\n",
       "    </tr>\n",
       "    <tr>\n",
       "      <th>21</th>\n",
       "      <td>(3968011, 3690654)</td>\n",
       "      <td>(3898011)</td>\n",
       "      <td>0.002390</td>\n",
       "      <td>0.010544</td>\n",
       "      <td>0.001703</td>\n",
       "      <td>0.712500</td>\n",
       "      <td>67.572450</td>\n",
       "      <td>0.001677</td>\n",
       "      <td>3.441585</td>\n",
       "      <td>13.0</td>\n",
       "      <td>2.0</td>\n",
       "      <td>3.0</td>\n",
       "      <td>6.000000</td>\n",
       "    </tr>\n",
       "    <tr>\n",
       "      <th>35</th>\n",
       "      <td>(3898011)</td>\n",
       "      <td>(3968011)</td>\n",
       "      <td>0.010544</td>\n",
       "      <td>0.012814</td>\n",
       "      <td>0.003256</td>\n",
       "      <td>0.308782</td>\n",
       "      <td>24.096502</td>\n",
       "      <td>0.003121</td>\n",
       "      <td>1.428182</td>\n",
       "      <td>1.0</td>\n",
       "      <td>7.0</td>\n",
       "      <td>15.0</td>\n",
       "      <td>7.666667</td>\n",
       "    </tr>\n",
       "    <tr>\n",
       "      <th>20</th>\n",
       "      <td>(3968011, 3898011)</td>\n",
       "      <td>(3690654)</td>\n",
       "      <td>0.003256</td>\n",
       "      <td>0.011291</td>\n",
       "      <td>0.001703</td>\n",
       "      <td>0.522936</td>\n",
       "      <td>46.314402</td>\n",
       "      <td>0.001666</td>\n",
       "      <td>2.072486</td>\n",
       "      <td>13.0</td>\n",
       "      <td>5.0</td>\n",
       "      <td>7.0</td>\n",
       "      <td>8.333333</td>\n",
       "    </tr>\n",
       "    <tr>\n",
       "      <th>34</th>\n",
       "      <td>(3968011)</td>\n",
       "      <td>(3898011)</td>\n",
       "      <td>0.012814</td>\n",
       "      <td>0.010544</td>\n",
       "      <td>0.003256</td>\n",
       "      <td>0.254079</td>\n",
       "      <td>24.096502</td>\n",
       "      <td>0.003121</td>\n",
       "      <td>1.326489</td>\n",
       "      <td>1.0</td>\n",
       "      <td>11.0</td>\n",
       "      <td>15.0</td>\n",
       "      <td>9.000000</td>\n",
       "    </tr>\n",
       "  </tbody>\n",
       "</table>\n",
       "</div>"
      ],
      "text/plain": [
       "           antecedents consequents  antecedent support  consequent support   support  confidence       lift  leverage  conviction  Rank Sup  Rank Conf  Rank Lift  Avg Rank\n",
       "22  (3898011, 3690654)   (3968011)            0.001882            0.012814  0.001703    0.904762  70.605173  0.001678   10.365449      13.0        1.0        1.0  5.000000\n",
       "21  (3968011, 3690654)   (3898011)            0.002390            0.010544  0.001703    0.712500  67.572450  0.001677    3.441585      13.0        2.0        3.0  6.000000\n",
       "35           (3898011)   (3968011)            0.010544            0.012814  0.003256    0.308782  24.096502  0.003121    1.428182       1.0        7.0       15.0  7.666667\n",
       "20  (3968011, 3898011)   (3690654)            0.003256            0.011291  0.001703    0.522936  46.314402  0.001666    2.072486      13.0        5.0        7.0  8.333333\n",
       "34           (3968011)   (3898011)            0.012814            0.010544  0.003256    0.254079  24.096502  0.003121    1.326489       1.0       11.0       15.0  9.000000"
      ]
     },
     "execution_count": 66,
     "metadata": {},
     "output_type": "execute_result"
    }
   ],
   "source": [
    "rules_sup.head()"
   ]
  },
  {
   "cell_type": "code",
   "execution_count": 67,
   "metadata": {},
   "outputs": [
    {
     "data": {
      "text/html": [
       "<div>\n",
       "<style scoped>\n",
       "    .dataframe tbody tr th:only-of-type {\n",
       "        vertical-align: middle;\n",
       "    }\n",
       "\n",
       "    .dataframe tbody tr th {\n",
       "        vertical-align: top;\n",
       "    }\n",
       "\n",
       "    .dataframe thead th {\n",
       "        text-align: right;\n",
       "    }\n",
       "</style>\n",
       "<table border=\"1\" class=\"dataframe\">\n",
       "  <thead>\n",
       "    <tr style=\"text-align: right;\">\n",
       "      <th></th>\n",
       "      <th>antecedents</th>\n",
       "      <th>consequents</th>\n",
       "      <th>antecedent support</th>\n",
       "      <th>consequent support</th>\n",
       "      <th>support</th>\n",
       "      <th>confidence</th>\n",
       "      <th>lift</th>\n",
       "      <th>leverage</th>\n",
       "      <th>conviction</th>\n",
       "      <th>Rank Sup</th>\n",
       "      <th>Rank Conf</th>\n",
       "      <th>Rank Lift</th>\n",
       "      <th>Avg Rank</th>\n",
       "    </tr>\n",
       "  </thead>\n",
       "  <tbody>\n",
       "    <tr>\n",
       "      <th>1287</th>\n",
       "      <td>(2657335)</td>\n",
       "      <td>(2637335)</td>\n",
       "      <td>0.000388</td>\n",
       "      <td>0.000508</td>\n",
       "      <td>0.000388</td>\n",
       "      <td>1.000000</td>\n",
       "      <td>1969.294118</td>\n",
       "      <td>0.000388</td>\n",
       "      <td>inf</td>\n",
       "      <td>243.0</td>\n",
       "      <td>1.0</td>\n",
       "      <td>45.0</td>\n",
       "      <td>96.333333</td>\n",
       "    </tr>\n",
       "    <tr>\n",
       "      <th>1804</th>\n",
       "      <td>(4752472, 4722472)</td>\n",
       "      <td>(4772472)</td>\n",
       "      <td>0.000358</td>\n",
       "      <td>0.000597</td>\n",
       "      <td>0.000358</td>\n",
       "      <td>1.000000</td>\n",
       "      <td>1673.900000</td>\n",
       "      <td>0.000358</td>\n",
       "      <td>inf</td>\n",
       "      <td>291.0</td>\n",
       "      <td>1.0</td>\n",
       "      <td>93.0</td>\n",
       "      <td>128.333333</td>\n",
       "    </tr>\n",
       "    <tr>\n",
       "      <th>2694</th>\n",
       "      <td>(2327335)</td>\n",
       "      <td>(2397335)</td>\n",
       "      <td>0.000388</td>\n",
       "      <td>0.000508</td>\n",
       "      <td>0.000358</td>\n",
       "      <td>0.923077</td>\n",
       "      <td>1817.809955</td>\n",
       "      <td>0.000358</td>\n",
       "      <td>12.993399</td>\n",
       "      <td>291.0</td>\n",
       "      <td>40.0</td>\n",
       "      <td>69.0</td>\n",
       "      <td>133.333333</td>\n",
       "    </tr>\n",
       "    <tr>\n",
       "      <th>1286</th>\n",
       "      <td>(2637335)</td>\n",
       "      <td>(2657335)</td>\n",
       "      <td>0.000508</td>\n",
       "      <td>0.000388</td>\n",
       "      <td>0.000388</td>\n",
       "      <td>0.764706</td>\n",
       "      <td>1969.294118</td>\n",
       "      <td>0.000388</td>\n",
       "      <td>4.248350</td>\n",
       "      <td>243.0</td>\n",
       "      <td>124.0</td>\n",
       "      <td>45.0</td>\n",
       "      <td>137.333333</td>\n",
       "    </tr>\n",
       "    <tr>\n",
       "      <th>572</th>\n",
       "      <td>(6833806)</td>\n",
       "      <td>(7063806)</td>\n",
       "      <td>0.000329</td>\n",
       "      <td>0.000448</td>\n",
       "      <td>0.000329</td>\n",
       "      <td>1.000000</td>\n",
       "      <td>2231.866667</td>\n",
       "      <td>0.000328</td>\n",
       "      <td>inf</td>\n",
       "      <td>391.0</td>\n",
       "      <td>1.0</td>\n",
       "      <td>23.0</td>\n",
       "      <td>138.333333</td>\n",
       "    </tr>\n",
       "  </tbody>\n",
       "</table>\n",
       "</div>"
      ],
      "text/plain": [
       "             antecedents consequents  antecedent support  consequent support   support  confidence         lift  leverage  conviction  Rank Sup  Rank Conf  Rank Lift    Avg Rank\n",
       "1287           (2657335)   (2637335)            0.000388            0.000508  0.000388    1.000000  1969.294118  0.000388         inf     243.0        1.0       45.0   96.333333\n",
       "1804  (4752472, 4722472)   (4772472)            0.000358            0.000597  0.000358    1.000000  1673.900000  0.000358         inf     291.0        1.0       93.0  128.333333\n",
       "2694           (2327335)   (2397335)            0.000388            0.000508  0.000358    0.923077  1817.809955  0.000358   12.993399     291.0       40.0       69.0  133.333333\n",
       "1286           (2637335)   (2657335)            0.000508            0.000388  0.000388    0.764706  1969.294118  0.000388    4.248350     243.0      124.0       45.0  137.333333\n",
       "572            (6833806)   (7063806)            0.000329            0.000448  0.000329    1.000000  2231.866667  0.000328         inf     391.0        1.0       23.0  138.333333"
      ]
     },
     "execution_count": 67,
     "metadata": {},
     "output_type": "execute_result"
    }
   ],
   "source": [
    "rules_conf.head()"
   ]
  },
  {
   "cell_type": "markdown",
   "metadata": {},
   "source": [
    "### Extract candidate SKUs from rules"
   ]
  },
  {
   "cell_type": "code",
   "execution_count": 68,
   "metadata": {},
   "outputs": [],
   "source": [
    "# Convert frozen sets into lists\n",
    "rules_conf.antecedents = map(list,rules_conf.antecedents)\n",
    "rules_conf.consequents = map(list,rules_conf.consequents)\n",
    "rules_sup.antecedents = map(list,rules_sup.antecedents)\n",
    "rules_sup.consequents = map(list,rules_sup.consequents)"
   ]
  },
  {
   "cell_type": "code",
   "execution_count": 69,
   "metadata": {},
   "outputs": [],
   "source": [
    "# Take SKUs in the strongest rules by support\n",
    "skus_sup_ant = pd.Series(sum(rules_sup.antecedents,[]))\n",
    "skus_sup_con = pd.Series(sum(rules_sup.consequents,[]))\n",
    "skus_sup_ant = list(set(skus_sup_ant))\n",
    "skus_sup_con = list(set(skus_sup_con))\n",
    "skus_sup = np.array(list(set(skus_sup_ant + skus_sup_con)))"
   ]
  },
  {
   "cell_type": "code",
   "execution_count": 70,
   "metadata": {},
   "outputs": [],
   "source": [
    "# Take SKUs in 1000 strongest rules by confidence\n",
    "skus_conf_ant = pd.Series(sum(rules_conf.antecedents.head(1000),[]))\n",
    "skus_conf_con = pd.Series(sum(rules_conf.consequents.head(1000),[]))\n",
    "skus_conf_ant = list(set(skus_conf_ant))\n",
    "skus_conf_con = list(set(skus_conf_con))\n",
    "skus_conf = np.array(list(set(skus_conf_ant + skus_conf_con)))"
   ]
  },
  {
   "cell_type": "code",
   "execution_count": 71,
   "metadata": {},
   "outputs": [],
   "source": [
    "### Match SKUs to their names and departments\n",
    "\n",
    "# 10/12 SKUs in rules by support are in the strongest rules by confidence, so just use rules by confidece\n",
    "skus1 = pd.Series(skus_sup).isin(pd.Series(skus_conf))\n",
    "\n",
    "# Only take 100 SKUs in the strongest rules\n",
    "skus_conf = pd.Series(skus_conf).iloc[0:100]\n",
    "finalskus = sku[sku.SKU.isin(skus_conf)]"
   ]
  },
  {
   "cell_type": "code",
   "execution_count": 106,
   "metadata": {},
   "outputs": [],
   "source": [
    "finalskus.head()\n",
    "finalskus.to_csv(\"finalskus\")"
   ]
  },
  {
   "cell_type": "markdown",
   "metadata": {},
   "source": [
    "### Extra code used for analysis"
   ]
  },
  {
   "cell_type": "code",
   "execution_count": 79,
   "metadata": {},
   "outputs": [
    {
     "data": {
      "text/plain": [
       "(51983, 5)"
      ]
     },
     "execution_count": 79,
     "metadata": {},
     "output_type": "execute_result"
    }
   ],
   "source": [
    "# Number of SKUs with negative profit margins\n",
    "skst[skst.MARGIN < 0].shape"
   ]
  },
  {
   "cell_type": "code",
   "execution_count": 82,
   "metadata": {},
   "outputs": [
    {
     "data": {
      "text/plain": [
       "(37753, 4)"
      ]
     },
     "execution_count": 82,
     "metadata": {},
     "output_type": "execute_result"
    }
   ],
   "source": [
    "# Number of SKUs with significant contribution to profit margin\n",
    "pmf[pmf.PERCENTAGE < 0.99].shape"
   ]
  },
  {
   "cell_type": "code",
   "execution_count": 95,
   "metadata": {},
   "outputs": [
    {
     "name": "stdout",
     "output_type": "stream",
     "text": [
      "0.000700132895162\n",
      "0.00011948145050480913\n",
      "0.030587251329231138\n",
      "0.00132930105791\n",
      "0.000388314714141\n"
     ]
    }
   ],
   "source": [
    "# Individual support summary\n",
    "print(support.support.mean())\n",
    "print(support.support.min())\n",
    "print(support.support.max())\n",
    "print(support.support.std())\n",
    "print(support.support.median())"
   ]
  },
  {
   "cell_type": "code",
   "execution_count": 98,
   "metadata": {},
   "outputs": [
    {
     "name": "stdout",
     "output_type": "stream",
     "text": [
      "0.00179388122216\n",
      "0.0010155923292908776\n",
      "0.003255869526256049\n",
      "0.000662669975087\n",
      "0.00162793476313\n",
      "0.000202558809042\n",
      "0.00011948145050480913\n",
      "0.003255869526256049\n",
      "0.000186137427545\n",
      "0.000149351813131\n"
     ]
    }
   ],
   "source": [
    "# Rules support summary\n",
    "print(rules_sup.support.mean())\n",
    "print(rules_sup.support.min())\n",
    "print(rules_sup.support.max())\n",
    "print(rules_sup.support.std())\n",
    "print(rules_sup.support.median())\n",
    "\n",
    "print(rules_conf.support.mean())\n",
    "print(rules_conf.support.min())\n",
    "print(rules_conf.support.max())\n",
    "print(rules_conf.support.std())\n",
    "print(rules_conf.support.median())"
   ]
  },
  {
   "cell_type": "code",
   "execution_count": 100,
   "metadata": {},
   "outputs": [
    {
     "name": "stdout",
     "output_type": "stream",
     "text": [
      "0.231317220746\n",
      "0.033203125\n",
      "0.9047619047619047\n",
      "0.205665653256\n",
      "0.1594250685\n",
      "0.166537504679\n",
      "0.00390625\n",
      "1.0\n",
      "0.217898803429\n",
      "0.0584415584416\n"
     ]
    }
   ],
   "source": [
    "# Rules confidence summary\n",
    "print(rules_sup.confidence.mean())\n",
    "print(rules_sup.confidence.min())\n",
    "print(rules_sup.confidence.max())\n",
    "print(rules_sup.confidence.std())\n",
    "print(rules_sup.confidence.median())\n",
    "\n",
    "print(rules_conf.confidence.mean())\n",
    "print(rules_conf.confidence.min())\n",
    "print(rules_conf.confidence.max())\n",
    "print(rules_conf.confidence.std())\n",
    "print(rules_conf.confidence.median())"
   ]
  },
  {
   "cell_type": "code",
   "execution_count": 107,
   "metadata": {},
   "outputs": [
    {
     "name": "stdout",
     "output_type": "stream",
     "text": [
      "26.0910370862\n",
      "1.9433115712412588\n",
      "70.6051726051726\n",
      "22.8081732286\n",
      "17.0888798132\n",
      "233.203391547\n",
      "0.43736935618729095\n",
      "3487.291666666666\n",
      "440.714051304\n",
      "11.3240032134\n"
     ]
    }
   ],
   "source": [
    "# Rules lift summary\n",
    "print(rules_sup.lift.mean())\n",
    "print(rules_sup.lift.min())\n",
    "print(rules_sup.lift.max())\n",
    "print(rules_sup.lift.std())\n",
    "print(rules_sup.lift.median())\n",
    "\n",
    "print(rules_conf.lift.mean())\n",
    "print(rules_conf.lift.min())\n",
    "print(rules_conf.lift.max())\n",
    "print(rules_conf.lift.std())\n",
    "print(rules_conf.lift.median())"
   ]
  },
  {
   "cell_type": "code",
   "execution_count": 109,
   "metadata": {},
   "outputs": [
    {
     "data": {
      "text/plain": [
       "13"
      ]
     },
     "execution_count": 109,
     "metadata": {},
     "output_type": "execute_result"
    }
   ],
   "source": [
    "# Number of departments final SKUs are in\n",
    "finalskus.DEPT.nunique()"
   ]
  },
  {
   "cell_type": "code",
   "execution_count": 111,
   "metadata": {},
   "outputs": [
    {
     "data": {
      "text/plain": [
       "60"
      ]
     },
     "execution_count": 111,
     "metadata": {},
     "output_type": "execute_result"
    }
   ],
   "source": [
    "# Number of original departments\n",
    "dept.index.nunique()"
   ]
  },
  {
   "cell_type": "code",
   "execution_count": 115,
   "metadata": {},
   "outputs": [
    {
     "data": {
      "text/plain": [
       "1960"
      ]
     },
     "execution_count": 115,
     "metadata": {},
     "output_type": "execute_result"
    }
   ],
   "source": [
    "# Number of total brands\n",
    "sku.BRAND.nunique()"
   ]
  },
  {
   "cell_type": "code",
   "execution_count": 116,
   "metadata": {},
   "outputs": [
    {
     "data": {
      "text/plain": [
       "26"
      ]
     },
     "execution_count": 116,
     "metadata": {},
     "output_type": "execute_result"
    }
   ],
   "source": [
    "# Number of brands in final SKUs\n",
    "finalskus.BRAND.nunique()"
   ]
  },
  {
   "cell_type": "code",
   "execution_count": 119,
   "metadata": {},
   "outputs": [
    {
     "data": {
      "text/html": [
       "<div>\n",
       "<style scoped>\n",
       "    .dataframe tbody tr th:only-of-type {\n",
       "        vertical-align: middle;\n",
       "    }\n",
       "\n",
       "    .dataframe tbody tr th {\n",
       "        vertical-align: top;\n",
       "    }\n",
       "\n",
       "    .dataframe thead th {\n",
       "        text-align: right;\n",
       "    }\n",
       "</style>\n",
       "<table border=\"1\" class=\"dataframe\">\n",
       "  <thead>\n",
       "    <tr style=\"text-align: right;\">\n",
       "      <th></th>\n",
       "      <th>DEPT</th>\n",
       "      <th>DEPTDESC</th>\n",
       "    </tr>\n",
       "  </thead>\n",
       "  <tbody>\n",
       "    <tr>\n",
       "      <th>800</th>\n",
       "      <td>CLINIQUE</td>\n",
       "      <td>0</td>\n",
       "    </tr>\n",
       "    <tr>\n",
       "      <th>1202</th>\n",
       "      <td>CABERN</td>\n",
       "      <td>0</td>\n",
       "    </tr>\n",
       "    <tr>\n",
       "      <th>1301</th>\n",
       "      <td>BE2</td>\n",
       "      <td>0</td>\n",
       "    </tr>\n",
       "    <tr>\n",
       "      <th>2105</th>\n",
       "      <td>R TAYLOR</td>\n",
       "      <td>0</td>\n",
       "    </tr>\n",
       "    <tr>\n",
       "      <th>2107</th>\n",
       "      <td>MAI</td>\n",
       "      <td>0</td>\n",
       "    </tr>\n",
       "    <tr>\n",
       "      <th>2200</th>\n",
       "      <td>CELEBRT</td>\n",
       "      <td>0</td>\n",
       "    </tr>\n",
       "    <tr>\n",
       "      <th>2301</th>\n",
       "      <td>BEP</td>\n",
       "      <td>0</td>\n",
       "    </tr>\n",
       "    <tr>\n",
       "      <th>4505</th>\n",
       "      <td>POLOMEN</td>\n",
       "      <td>0</td>\n",
       "    </tr>\n",
       "    <tr>\n",
       "      <th>5207</th>\n",
       "      <td>H SIERR</td>\n",
       "      <td>0</td>\n",
       "    </tr>\n",
       "    <tr>\n",
       "      <th>6107</th>\n",
       "      <td>NOB</td>\n",
       "      <td>0</td>\n",
       "    </tr>\n",
       "    <tr>\n",
       "      <th>6402</th>\n",
       "      <td>FREDERI</td>\n",
       "      <td>0</td>\n",
       "    </tr>\n",
       "    <tr>\n",
       "      <th>7200</th>\n",
       "      <td>COFFRET</td>\n",
       "      <td>0</td>\n",
       "    </tr>\n",
       "    <tr>\n",
       "      <th>7307</th>\n",
       "      <td>SIGRID O</td>\n",
       "      <td>0</td>\n",
       "    </tr>\n",
       "  </tbody>\n",
       "</table>\n",
       "</div>"
      ],
      "text/plain": [
       "          DEPT  DEPTDESC\n",
       "800   CLINIQUE         0\n",
       "1202  CABERN           0\n",
       "1301  BE2              0\n",
       "2105  R TAYLOR         0\n",
       "2107  MAI              0\n",
       "2200  CELEBRT          0\n",
       "2301  BEP              0\n",
       "4505  POLOMEN          0\n",
       "5207  H SIERR          0\n",
       "6107  NOB              0\n",
       "6402  FREDERI          0\n",
       "7200  COFFRET          0\n",
       "7307  SIGRID O         0"
      ]
     },
     "execution_count": 119,
     "metadata": {},
     "output_type": "execute_result"
    }
   ],
   "source": [
    "# Departments final SKUs are in\n",
    "finaldept = dept[dept.index.isin(finalskus.DEPT)]\n",
    "finaldept"
   ]
  }
 ],
 "metadata": {
  "kernelspec": {
   "display_name": "Python 2",
   "language": "python",
   "name": "python2"
  },
  "language_info": {
   "codemirror_mode": {
    "name": "ipython",
    "version": 2
   },
   "file_extension": ".py",
   "mimetype": "text/x-python",
   "name": "python",
   "nbconvert_exporter": "python",
   "pygments_lexer": "ipython2",
   "version": "2.7.15"
  }
 },
 "nbformat": 4,
 "nbformat_minor": 2
}
